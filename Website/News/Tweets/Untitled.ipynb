{
 "cells": [
  {
   "cell_type": "code",
   "execution_count": 2,
   "metadata": {
    "scrolled": true
   },
   "outputs": [],
   "source": [
    "# Google news\n",
    "import requests\n",
    "from bs4 import BeautifulSoup\n",
    "import json\n",
    "import pandas as pd\n",
    "\n",
    "link = 'https://news.google.com/topics/CAAqIggKIhxDQkFTRHdvSkwyMHZNREZqY0hsNUVnSmxiaWdBUAE?hl=en-IN&gl=IN&ceid=IN%3Aen'      \n",
    "\n",
    "source = requests.get(link).text\n",
    "soup = BeautifulSoup(source,'lxml')\n",
    "\n",
    "newsHeader, news, link = [], '', ''\n",
    "\n",
    "\n",
    "mainDivs = soup.find_all('div',{'class':'DBQmFf NclIid BL5WZb Oc0wGc xP6mwf j7vNaf'})\n",
    "for i in mainDivs:\n",
    "    try:\n",
    "        h = i.find('div',{'class':'cp7Yvc'})\n",
    "        print('###' + h.text+ ':\\n')\n",
    "        try:\n",
    "            more = h.find('a')\n",
    "            print('More Such News: https://news.google.com/'+more['href'][2:])\n",
    "            print()\n",
    "        except:\n",
    "            pass\n",
    "        div = i.find_all('div',{'class':'xrnccd tcvRoe R7GTQ keNKEd j7vNaf'})\n",
    "        a = i.find_all('a',{'class':'VDXfz'})\n",
    "        for j in div:\n",
    "            headlines = j.find_all('h3')\n",
    "            refs = j.find_all('a',{'class':'wEwyrc AVN2gc uQIVzc Sksgp'})\n",
    "            time = j.find_all('time')           \n",
    "            for k,l,m,n in zip(headlines,refs,time,a):\n",
    "                news = (k.text+'\\nReference: '+l.text+'\\nUpdated: '+m.text+'\\n',' For more: https://news.google.com/'+n['href'][2:])\n",
    "                print(news)\n",
    "                print()\n",
    "                newsHeader.append(news)\n",
    "                news = ''\n",
    "                \n",
    "        print('-'*50)\n",
    "        \n",
    "    except:\n",
    "        print()"
   ]
  },
  {
   "cell_type": "code",
   "execution_count": 1,
   "metadata": {
    "scrolled": true
   },
   "outputs": [
    {
     "data": {
      "text/html": [
       "<div>\n",
       "<style scoped>\n",
       "    .dataframe tbody tr th:only-of-type {\n",
       "        vertical-align: middle;\n",
       "    }\n",
       "\n",
       "    .dataframe tbody tr th {\n",
       "        vertical-align: top;\n",
       "    }\n",
       "\n",
       "    .dataframe thead th {\n",
       "        text-align: right;\n",
       "    }\n",
       "</style>\n",
       "<table border=\"1\" class=\"dataframe\">\n",
       "  <thead>\n",
       "    <tr style=\"text-align: right;\">\n",
       "      <th></th>\n",
       "      <th>screenName</th>\n",
       "      <th>Tweets</th>\n",
       "      <th>Timeframe</th>\n",
       "      <th>Links</th>\n",
       "      <th>profilePictue</th>\n",
       "    </tr>\n",
       "  </thead>\n",
       "  <tbody>\n",
       "    <tr>\n",
       "      <th>0</th>\n",
       "      <td>@COVIDNewsByMIB</td>\n",
       "      <td>#IndiaFightsCorona:\\n\\n📍#Guidelines for prison...</td>\n",
       "      <td>2020-08-17 15:11:03</td>\n",
       "      <td>https://t.co/vpWxKWr90a</td>\n",
       "      <td>http://pbs.twimg.com/profile_images/1244933005...</td>\n",
       "    </tr>\n",
       "    <tr>\n",
       "      <th>1</th>\n",
       "      <td>@COVIDNewsByMIB</td>\n",
       "      <td>#IndiaFightsCorona:\\n\\n📍 Preventing #COVID19 a...</td>\n",
       "      <td>2020-08-17 14:06:48</td>\n",
       "      <td>https://t.co/WNAW6xHkC9</td>\n",
       "      <td>http://pbs.twimg.com/profile_images/1244933005...</td>\n",
       "    </tr>\n",
       "    <tr>\n",
       "      <th>2</th>\n",
       "      <td>@COVIDNewsByMIB</td>\n",
       "      <td>#IndiaFightsCorona: \\n\\n📍Spitting publicly can...</td>\n",
       "      <td>2020-08-17 13:47:31</td>\n",
       "      <td>https://t.co/Pp6MWIknl3</td>\n",
       "      <td>http://pbs.twimg.com/profile_images/1244933005...</td>\n",
       "    </tr>\n",
       "    <tr>\n",
       "      <th>3</th>\n",
       "      <td>@COVIDNewsByMIB</td>\n",
       "      <td>#IndiaFightsCorona:\\n\\n📍Points to remember whi...</td>\n",
       "      <td>2020-08-17 12:13:52</td>\n",
       "      <td>https://t.co/8fbQyU6Uxx</td>\n",
       "      <td>http://pbs.twimg.com/profile_images/1244933005...</td>\n",
       "    </tr>\n",
       "    <tr>\n",
       "      <th>4</th>\n",
       "      <td>@DrTedros</td>\n",
       "      <td>@PeterByass supervised my Ph D  thesis at the...</td>\n",
       "      <td>2020-08-17 11:59:36</td>\n",
       "      <td>.</td>\n",
       "      <td>http://pbs.twimg.com/profile_images/1242902762...</td>\n",
       "    </tr>\n",
       "    <tr>\n",
       "      <th>...</th>\n",
       "      <td>...</td>\n",
       "      <td>...</td>\n",
       "      <td>...</td>\n",
       "      <td>...</td>\n",
       "      <td>...</td>\n",
       "    </tr>\n",
       "    <tr>\n",
       "      <th>153</th>\n",
       "      <td>@SueDHellmann</td>\n",
       "      <td>Social distancing will save lives - and will d...</td>\n",
       "      <td>2020-03-26 22:12:41</td>\n",
       "      <td>https://t.co/fZsFOIhXDM</td>\n",
       "      <td>http://pbs.twimg.com/profile_images/1224560043...</td>\n",
       "    </tr>\n",
       "    <tr>\n",
       "      <th>154</th>\n",
       "      <td>@SueDHellmann</td>\n",
       "      <td>Mano-a-Mano ! Steph &amp;amp; Dr. Fauci\\nNot March...</td>\n",
       "      <td>2020-03-26 01:07:29</td>\n",
       "      <td>https://t.co/CaWWxOUDyp</td>\n",
       "      <td>http://pbs.twimg.com/profile_images/1224560043...</td>\n",
       "    </tr>\n",
       "    <tr>\n",
       "      <th>155</th>\n",
       "      <td>@SueDHellmann</td>\n",
       "      <td>Highly recommend piece on where we go next on ...</td>\n",
       "      <td>2020-03-25 19:45:47</td>\n",
       "      <td>https://t.co/hCkcXpHSJC</td>\n",
       "      <td>http://pbs.twimg.com/profile_images/1224560043...</td>\n",
       "    </tr>\n",
       "    <tr>\n",
       "      <th>156</th>\n",
       "      <td>@SueDHellmann</td>\n",
       "      <td>Essential to fix this- “Right now we simply ha...</td>\n",
       "      <td>2020-03-24 16:25:05</td>\n",
       "      <td>https://t.co/XmU3XjBcYF</td>\n",
       "      <td>http://pbs.twimg.com/profile_images/1224560043...</td>\n",
       "    </tr>\n",
       "    <tr>\n",
       "      <th>157</th>\n",
       "      <td>@SueDHellmann</td>\n",
       "      <td>Zeke Emanuel outlines balance of health &amp;amp; ...</td>\n",
       "      <td>2020-03-24 02:15:56</td>\n",
       "      <td>https://t.co/FaZEJqmhPY</td>\n",
       "      <td>http://pbs.twimg.com/profile_images/1224560043...</td>\n",
       "    </tr>\n",
       "  </tbody>\n",
       "</table>\n",
       "<p>158 rows × 5 columns</p>\n",
       "</div>"
      ],
      "text/plain": [
       "          screenName                                             Tweets  \\\n",
       "0    @COVIDNewsByMIB  #IndiaFightsCorona:\\n\\n📍#Guidelines for prison...   \n",
       "1    @COVIDNewsByMIB  #IndiaFightsCorona:\\n\\n📍 Preventing #COVID19 a...   \n",
       "2    @COVIDNewsByMIB  #IndiaFightsCorona: \\n\\n📍Spitting publicly can...   \n",
       "3    @COVIDNewsByMIB  #IndiaFightsCorona:\\n\\n📍Points to remember whi...   \n",
       "4          @DrTedros   @PeterByass supervised my Ph D  thesis at the...   \n",
       "..               ...                                                ...   \n",
       "153    @SueDHellmann  Social distancing will save lives - and will d...   \n",
       "154    @SueDHellmann  Mano-a-Mano ! Steph &amp; Dr. Fauci\\nNot March...   \n",
       "155    @SueDHellmann  Highly recommend piece on where we go next on ...   \n",
       "156    @SueDHellmann  Essential to fix this- “Right now we simply ha...   \n",
       "157    @SueDHellmann  Zeke Emanuel outlines balance of health &amp; ...   \n",
       "\n",
       "              Timeframe                    Links  \\\n",
       "0   2020-08-17 15:11:03  https://t.co/vpWxKWr90a   \n",
       "1   2020-08-17 14:06:48  https://t.co/WNAW6xHkC9   \n",
       "2   2020-08-17 13:47:31  https://t.co/Pp6MWIknl3   \n",
       "3   2020-08-17 12:13:52  https://t.co/8fbQyU6Uxx   \n",
       "4   2020-08-17 11:59:36                        .   \n",
       "..                  ...                      ...   \n",
       "153 2020-03-26 22:12:41  https://t.co/fZsFOIhXDM   \n",
       "154 2020-03-26 01:07:29  https://t.co/CaWWxOUDyp   \n",
       "155 2020-03-25 19:45:47  https://t.co/hCkcXpHSJC   \n",
       "156 2020-03-24 16:25:05  https://t.co/XmU3XjBcYF   \n",
       "157 2020-03-24 02:15:56  https://t.co/FaZEJqmhPY   \n",
       "\n",
       "                                         profilePictue  \n",
       "0    http://pbs.twimg.com/profile_images/1244933005...  \n",
       "1    http://pbs.twimg.com/profile_images/1244933005...  \n",
       "2    http://pbs.twimg.com/profile_images/1244933005...  \n",
       "3    http://pbs.twimg.com/profile_images/1244933005...  \n",
       "4    http://pbs.twimg.com/profile_images/1242902762...  \n",
       "..                                                 ...  \n",
       "153  http://pbs.twimg.com/profile_images/1224560043...  \n",
       "154  http://pbs.twimg.com/profile_images/1224560043...  \n",
       "155  http://pbs.twimg.com/profile_images/1224560043...  \n",
       "156  http://pbs.twimg.com/profile_images/1224560043...  \n",
       "157  http://pbs.twimg.com/profile_images/1224560043...  \n",
       "\n",
       "[158 rows x 5 columns]"
      ]
     },
     "execution_count": 1,
     "metadata": {},
     "output_type": "execute_result"
    }
   ],
   "source": [
    "# coding: utf-8\n",
    "\n",
    "import tweepy\n",
    "import json\n",
    "import pandas as pd\n",
    "from langdetect import detect\n",
    "from datetime import datetime \n",
    "from datetime import timedelta\n",
    "\n",
    "consumer_key = \"cFf7im7BH68xO9qh3zEsv3nFz\"\n",
    "consumer_secret = \"2QyodEVK63XYE5D9RFPAo0I53rhBOsNocQGpGB8rapmEqxDnJi\"\n",
    "access_key = \"1265319352795975680-EJBIU55ZHZnjn8svR420cqVuU9evRL\"\n",
    "access_secret = \"i8h2utF6b2l2Uh7Vpg6c2mnPOO1CuthGdbyWtHSWdIURP\"\n",
    "\n",
    "auth = tweepy.OAuthHandler(consumer_key, consumer_secret) \n",
    "auth.set_access_token(access_key, access_secret) \n",
    "api = tweepy.API(auth) \n",
    "\n",
    "screenname = [\"narendramodi\",\"bogochisaac\",\"SueDHellmann\",\"DrTomFrieden\",\"DrTedros\",\"ScottGottliebMD\",\"T_Inglesby\",\"ashishkjha\",\"COVIDNewsByMIB\"]\n",
    "\n",
    "tweet,tweets_dates,text_query,hyperlinks,screennames_twitter,profile_pic = [], [], [\"CORONA\",\"COVID\"], [], [], []\n",
    "\n",
    "count = 0\n",
    "for i in screenname:\n",
    "    tweets = api.user_timeline(screen_name=i,count=100,tweet_mode=\"extended\")  \n",
    "    for status in tweets:\n",
    "        for text in text_query:\n",
    "            if text in status.full_text and detect(status.full_text)==\"en\" and \"RT\" not in status.full_text:\n",
    "                tweet.append(status.full_text)\n",
    "                tweets_dates.append(status.created_at)\n",
    "                screennames_twitter.append('@'+status.user.screen_name)\n",
    "                profile_pic.append(status.user.profile_image_url)\n",
    "                if len(status.entities['urls']) >0:\n",
    "                    hyperlinks.append(status.entities['urls'][0]['url'])\n",
    "                else:\n",
    "                    hyperlinks.append('#')\n",
    "\n",
    "for i in range(len(tweet)):\n",
    "    if hyperlinks[i] == '0' and 'https://' in  tweet[i]:\n",
    "        somet = tweet[i].find(\"https://\")\n",
    "        hyperlinks[i] = tweet[i][somet::]\n",
    "        tweet[i] = tweet[i].replace(hyperlinks[i],' ')\n",
    "        \n",
    "\n",
    "for i in range(len(tweet)):\n",
    "    if hyperlinks[i] != '0':\n",
    "        somet = tweet[i].find(\"https://\")\n",
    "        hyperlinks[i] = tweet[i][somet::]\n",
    "        tweet[i] = tweet[i].replace(hyperlinks[i],' ')\n",
    "        \n",
    "df = pd.DataFrame({\"screenName\":screennames_twitter,\"Tweets\":tweet,\"Timeframe\":tweets_dates,\"Links\":hyperlinks,\"profilePictue\":profile_pic})\n",
    "df.sort_values(by=['Timeframe'], inplace=True, ascending=False)\n",
    "df = df.reset_index(drop=True)\n",
    "df.to_csv('All-Tweets.csv',index=False)   \n",
    "df"
   ]
  },
  {
   "cell_type": "code",
   "execution_count": 42,
   "metadata": {},
   "outputs": [
    {
     "data": {
      "text/plain": [
       "[('NZ postpones vote; India coronavirus deaths top 50,000: Live\\nReference: Al Jazeera English\\nUpdated: 48 minutes ago\\n',\n",
       "  ' For more: https://news.google.com/articles/CAIiENbralxBDPTMmV2V9yL2GukqFAgEKgwIACoFCAowhgIwkDgw0O8B?hl=en-IN&gl=IN&ceid=IN%3Aen'),\n",
       " (\"India's COVID-19 vaccine: From price to production, companies brief expert panel on progress\\nReference: Livemint\\nUpdated: 24 minutes ago\\n\",\n",
       "  ' For more: https://news.google.com/articles/CAIiEDI0AL4ssaapuaYkXg1znPMqFwgEKg4IACoGCAowxLQ_MNevCDCyrdsG?hl=en-IN&gl=IN&ceid=IN%3Aen'),\n",
       " ('Weekly Covid numbers hit new high but growth slows\\nReference: Times of India\\nUpdated: 10 hours ago\\n',\n",
       "  ' For more: https://news.google.com/articles/CAIiEEfHhxAaQY0zT7m9MBRBgtwqGQgEKhAIACoHCAowzrL9CjDC7vQCMK2y1gU?hl=en-IN&gl=IN&ceid=IN%3Aen'),\n",
       " ('When will coronavirus cases peak in India?\\nReference: Livemint\\nUpdated: 12 hours ago\\n',\n",
       "  ' For more: https://news.google.com/articles/CAIiEAHYrvHtIge3mYSOcVjnOYQqFwgEKg4IACoGCAowxLQ_MNevCDDnvNMF?hl=en-IN&gl=IN&ceid=IN%3Aen'),\n",
       " ('Bengaluru reports 2131 new COVID-19 cases and 49 fatalities on Sunday\\nReference: The News Minute\\nUpdated: 10 hours ago\\n',\n",
       "  ' For more: https://news.google.com/articles/CAIiEOM2CryyiVOh81KkllGuJ2MqGQgEKhAIACoHCAow7pf_CjDdlfgCMKSi6gU?hl=en-IN&gl=IN&ceid=IN%3Aen'),\n",
       " ('In Photos: Patients irked by pathetic facilities at Covid Care Centres in Bengaluru\\nReference: Bangalore Mirror\\nUpdated: 11 hours ago\\n',\n",
       "  ' For more: https://news.google.com/articles/CBMinQFodHRwczovL2JhbmdhbG9yZW1pcnJvci5pbmRpYXRpbWVzLmNvbS9waG90b3MvbmV3cy9pbi1waG90b3MtcGF0aWVudHMtaXJrZWQtYnktcGF0aGV0aWMtZmFjaWxpdGllcy1hdC1jb3ZpZC1jYXJlLWNlbnRyZXMtaW4tYmVuZ2FsdXJ1L3Bob3Rvc3RvcnkvNzc1ODU4MjYuY21z0gGkAWh0dHBzOi8vYmFuZ2Fsb3JlbWlycm9yLmluZGlhdGltZXMuY29tL3Bob3Rvcy9uZXdzL2luLXBob3Rvcy1wYXRpZW50cy1pcmtlZC1ieS1wYXRoZXRpYy1mYWNpbGl0aWVzLWF0LWNvdmlkLWNhcmUtY2VudHJlcy1pbi1iZW5nYWx1cnUvYW1wX3Bob3Rvc3RvcnluZXcvNzc1ODU4MjYuY21z?hl=en-IN&gl=IN&ceid=IN%3Aen'),\n",
       " (\"Bengaluru: Mall reaches Covid-wary shoppers' doorstep\\nReference: Times of India\\nUpdated: 12 hours ago\\n\",\n",
       "  ' For more: https://news.google.com/articles/CAIiEE3IJfbeCxjzvhAlSAzC0QgqGQgEKhAIACoHCAowzrL9CjDC7vQCMKCT1wU?hl=en-IN&gl=IN&ceid=IN%3Aen'),\n",
       " ('BBMP divides Bengaluru city into ‘cells’ for better COVID-19 monitoring, testing\\nReference: The New Indian Express\\nUpdated: 19 hours ago\\n',\n",
       "  ' For more: https://news.google.com/articles/CBMimAFodHRwczovL3d3dy5uZXdpbmRpYW5leHByZXNzLmNvbS9jaXRpZXMvYmVuZ2FsdXJ1LzIwMjAvYXVnLzE3L2JibXAtZGl2aWRlcy1iZW5nYWx1cnUtY2l0eS1pbnRvLWNlbGxzLWZvci1iZXR0ZXItY292aWQtMTktbW9uaXRvcmluZy10ZXN0aW5nLTIxODQzOTIuaHRtbNIBlwFodHRwczovL3d3dy5uZXdpbmRpYW5leHByZXNzLmNvbS9jaXRpZXMvYmVuZ2FsdXJ1LzIwMjAvYXVnLzE3L2JibXAtZGl2aWRlcy1iZW5nYWx1cnUtY2l0eS1pbnRvLWNlbGxzLWZvci1iZXR0ZXItY292aWQtMTktbW9uaXRvcmluZy10ZXN0aW5nLTIxODQzOTIuYW1w?hl=en-IN&gl=IN&ceid=IN%3Aen'),\n",
       " ('A crisis without villains\\nReference: The Indian Express\\nUpdated: 7 hours ago\\n',\n",
       "  ' For more: https://news.google.com/articles/CAIiEGyXwmCbz7rT-Wivr8Dsc88qGAgEKg8IACoHCAow3rvTBDD89X4w0bTmBQ?hl=en-IN&gl=IN&ceid=IN%3Aen'),\n",
       " ('Coronavirus LIVE Updates: Kolkata Airport to Start Out-bound Flights to 6 Covid-19 Hotspots; DMK Opposes Reopening of Liquor Outlets in Chennai\\nReference: News18\\nUpdated: 8 hours ago\\n',\n",
       "  ' For more: https://news.google.com/articles/CAIiEN6nzjnVX17Gf4PGUfWcXQEqGQgEKhAIACoHCAow5qqNCzD4q58DMJahzgY?hl=en-IN&gl=IN&ceid=IN%3Aen'),\n",
       " ('Pre-owned Maruti, Honda high in demand on Quikr amid Covid-19\\nReference: Quartz India\\nUpdated: 12 hours ago\\n',\n",
       "  ' For more: https://news.google.com/articles/CAIiEFrRKG8KupTWAK3TxqlPLXAqGQgEKhAIACoHCAowkZHwCjCiyLcCMJf4hQM?hl=en-IN&gl=IN&ceid=IN%3Aen'),\n",
       " ('Global Coronavirus Updates, August 17: Lebanon health minister says need 2-week lockdown; New Zealand delays election\\nReference: The Indian Express\\nUpdated: 7 hours ago\\n',\n",
       "  ' For more: https://news.google.com/articles/CAIiEH5rU_P2w44K5yeQqSmjd_MqGAgEKg8IACoHCAow3rvTBDD89X4wkZjmBQ?hl=en-IN&gl=IN&ceid=IN%3Aen'),\n",
       " (\"Malaysian scientists discover ten times deadlier coronavirus strain, making it more infectious. Here's what it means\\nReference: Times of India\\nUpdated: 10 hours ago\\n\",\n",
       "  ' For more: https://news.google.com/articles/CBMi0wFodHRwczovL3RpbWVzb2ZpbmRpYS5pbmRpYXRpbWVzLmNvbS9saWZlLXN0eWxlL2hlYWx0aC1maXRuZXNzL2hlYWx0aC1uZXdzL21hbGF5c2lhbi1zY2llbnRpc3RzLWRpc2NvdmVyLXRlbi10aW1lcy1kZWFkbGllci1jb3JvbmF2aXJ1cy1zdHJhaW4tbWFraW5nLWl0LW1vcmUtaW5mZWN0aW91cy1oZXJlcy13aGF0LWl0LW1lYW5zL3Bob3Rvc3RvcnkvNzc1ODY5ODcuY21z0gHQAWh0dHBzOi8vbS50aW1lc29maW5kaWEuY29tL2xpZmUtc3R5bGUvaGVhbHRoLWZpdG5lc3MvaGVhbHRoLW5ld3MvbWFsYXlzaWFuLXNjaWVudGlzdHMtZGlzY292ZXItdGVuLXRpbWVzLWRlYWRsaWVyLWNvcm9uYXZpcnVzLXN0cmFpbi1tYWtpbmctaXQtbW9yZS1pbmZlY3Rpb3VzLWhlcmVzLXdoYXQtaXQtbWVhbnMvYW1wX2V0cGhvdG9zdG9yeS83NzU4Njk4Ny5jbXM?hl=en-IN&gl=IN&ceid=IN%3Aen'),\n",
       " ('India eyes global front runners in Covid-19 vaccine plan\\nReference: Hindustan Times\\nUpdated: 19 hours ago\\n',\n",
       "  ' For more: https://news.google.com/articles/CAIiEKY-EDpPxHur07N3KYZwIUUqFggEKg4IACoGCAoww7k_MMevCDDpywE?hl=en-IN&gl=IN&ceid=IN%3Aen'),\n",
       " ('Coronavirus vaccine update: After Russia, China grants patent to CanSino vaccine, phase III testing underway\\nReference: Times of India\\nUpdated: 8 hours ago\\n',\n",
       "  ' For more: https://news.google.com/articles/CBMiywFodHRwczovL3RpbWVzb2ZpbmRpYS5pbmRpYXRpbWVzLmNvbS9saWZlLXN0eWxlL2hlYWx0aC1maXRuZXNzL2hlYWx0aC1uZXdzL2Nvcm9uYXZpcnVzLXZhY2NpbmUtdXBkYXRlLWFmdGVyLXJ1c3NpYS1jaGluYS1ncmFudHMtcGF0ZW50LXRvLWNhbnNpbm8tdmFjY2luZS1waGFzZS1paWktdGVzdGluZy11bmRlcndheS9waG90b3N0b3J5Lzc3NTg5MTI4LmNtc9IByAFodHRwczovL20udGltZXNvZmluZGlhLmNvbS9saWZlLXN0eWxlL2hlYWx0aC1maXRuZXNzL2hlYWx0aC1uZXdzL2Nvcm9uYXZpcnVzLXZhY2NpbmUtdXBkYXRlLWFmdGVyLXJ1c3NpYS1jaGluYS1ncmFudHMtcGF0ZW50LXRvLWNhbnNpbm8tdmFjY2luZS1waGFzZS1paWktdGVzdGluZy11bmRlcndheS9hbXBfZXRwaG90b3N0b3J5Lzc3NTg5MTI4LmNtcw?hl=en-IN&gl=IN&ceid=IN%3Aen'),\n",
       " ('Covid vaccine tracker, August 17: First batch of Russian vaccine ready, roll out from August-end\\nReference: The Indian Express\\nUpdated: 1 hour ago\\n',\n",
       "  ' For more: https://news.google.com/articles/CAIiEGBYwcrwJmOLWG_u1JA-ouwqGAgEKg8IACoHCAow3rvTBDD89X4wwLbmBQ?hl=en-IN&gl=IN&ceid=IN%3Aen'),\n",
       " (\"Postponed New Zealand election due to coronavirus 'could work in Labour's favour' | The World\\nReference: ABC News (Australia)\\nUpdated: 4 hours ago\\n\",\n",
       "  ' For more: https://news.google.com/articles/CCAiC2p3OVpadkE1M2ZZmAEB?hl=en-IN&gl=IN&ceid=IN%3Aen'),\n",
       " ('International Flights: After 4 Months, Intl Air Travel Resumes From Chennai Airport: You Can Now Fly to Dubai\\nReference: India.com\\nUpdated: Yesterday\\n',\n",
       "  ' For more: https://news.google.com/articles/CAIiEJeIM-Skf1-lr0vnBSokPmMqGQgEKhAIACoHCAow5dz4CjCO8d4CMLW6uAY?hl=en-IN&gl=IN&ceid=IN%3Aen'),\n",
       " ('Australian state premier apologises for cruise ship failures that triggered coronavirus spike\\nReference: India Today\\nUpdated: 13 hours ago\\n',\n",
       "  ' For more: https://news.google.com/articles/CAIiEIf1XsFxpO8wxSsnbPGIshIqGQgEKhAIACoHCAowot7cCjD8xM4BMMfHhgI?hl=en-IN&gl=IN&ceid=IN%3Aen'),\n",
       " ('International Flights: After SpiceJet, Now Vistara to Start Operations From India to UK, Germany, France | Ch\\nReference: India.com\\nUpdated: Yesterday\\n',\n",
       "  ' For more: https://news.google.com/articles/CAIiEMMOrQbs1H9N8z8st14WAl0qGQgEKhAIACoHCAow5dz4CjCO8d4CMM-CjAY?hl=en-IN&gl=IN&ceid=IN%3Aen')]"
      ]
     },
     "execution_count": 42,
     "metadata": {},
     "output_type": "execute_result"
    }
   ],
   "source": [
    "newsHeader"
   ]
  },
  {
   "cell_type": "code",
   "execution_count": 2,
   "metadata": {},
   "outputs": [],
   "source": [
    "import pandas as pd\n",
    "df = pd.read_csv('All-Tweets.csv')"
   ]
  },
  {
   "cell_type": "code",
   "execution_count": 3,
   "metadata": {},
   "outputs": [
    {
     "data": {
      "text/plain": [
       "'#IndiaFightsCorona:\\n\\n📍#Guidelines for prisons during #COVID19\\n\\n↗️ Ensure quality health services, including uninterrupted access to the prevention and treatment of HIV, TB, hepatitis etc\\n\\n↗️ Reduce overcrowding\\n\\n#StaySafe #IndiaWillWin  '"
      ]
     },
     "execution_count": 3,
     "metadata": {},
     "output_type": "execute_result"
    }
   ],
   "source": [
    "df[\"Tweets\"][0]"
   ]
  },
  {
   "cell_type": "code",
   "execution_count": 4,
   "metadata": {},
   "outputs": [
    {
     "data": {
      "text/html": [
       "<div>\n",
       "<style scoped>\n",
       "    .dataframe tbody tr th:only-of-type {\n",
       "        vertical-align: middle;\n",
       "    }\n",
       "\n",
       "    .dataframe tbody tr th {\n",
       "        vertical-align: top;\n",
       "    }\n",
       "\n",
       "    .dataframe thead th {\n",
       "        text-align: right;\n",
       "    }\n",
       "</style>\n",
       "<table border=\"1\" class=\"dataframe\">\n",
       "  <thead>\n",
       "    <tr style=\"text-align: right;\">\n",
       "      <th></th>\n",
       "      <th>screenName</th>\n",
       "      <th>Tweets</th>\n",
       "      <th>Timeframe</th>\n",
       "      <th>Links</th>\n",
       "      <th>profilePictue</th>\n",
       "    </tr>\n",
       "  </thead>\n",
       "  <tbody>\n",
       "  </tbody>\n",
       "</table>\n",
       "</div>"
      ],
      "text/plain": [
       "Empty DataFrame\n",
       "Columns: [screenName, Tweets, Timeframe, Links, profilePictue]\n",
       "Index: []"
      ]
     },
     "execution_count": 4,
     "metadata": {},
     "output_type": "execute_result"
    }
   ],
   "source": [
    "df[df[\"Links\"]=='0']"
   ]
  },
  {
   "cell_type": "code",
   "execution_count": 5,
   "metadata": {},
   "outputs": [],
   "source": [
    "links = []\n",
    "for i in range(len(df[\"Tweets\"])):\n",
    "    if df[\"Links\"][i] == '0' and 'https://' in  df[\"Tweets\"][i]:\n",
    "        somet = df[\"Tweets\"][i].find(\"https://\")\n",
    "        links.append(df[\"Tweets\"][i][somet::])\n",
    "        df[\"Tweets\"][i].replace(df[\"Tweets\"][i][somet::],'')\n",
    "        df['Links'][i] = df[\"Tweets\"][i][somet::]\n"
   ]
  },
  {
   "cell_type": "code",
   "execution_count": 6,
   "metadata": {},
   "outputs": [
    {
     "data": {
      "text/html": [
       "<div>\n",
       "<style scoped>\n",
       "    .dataframe tbody tr th:only-of-type {\n",
       "        vertical-align: middle;\n",
       "    }\n",
       "\n",
       "    .dataframe tbody tr th {\n",
       "        vertical-align: top;\n",
       "    }\n",
       "\n",
       "    .dataframe thead th {\n",
       "        text-align: right;\n",
       "    }\n",
       "</style>\n",
       "<table border=\"1\" class=\"dataframe\">\n",
       "  <thead>\n",
       "    <tr style=\"text-align: right;\">\n",
       "      <th></th>\n",
       "      <th>screenName</th>\n",
       "      <th>Tweets</th>\n",
       "      <th>Timeframe</th>\n",
       "      <th>Links</th>\n",
       "      <th>profilePictue</th>\n",
       "    </tr>\n",
       "  </thead>\n",
       "  <tbody>\n",
       "  </tbody>\n",
       "</table>\n",
       "</div>"
      ],
      "text/plain": [
       "Empty DataFrame\n",
       "Columns: [screenName, Tweets, Timeframe, Links, profilePictue]\n",
       "Index: []"
      ]
     },
     "execution_count": 6,
     "metadata": {},
     "output_type": "execute_result"
    }
   ],
   "source": [
    "df[df[\"Links\"]=='0']"
   ]
  },
  {
   "cell_type": "code",
   "execution_count": 7,
   "metadata": {},
   "outputs": [],
   "source": [
    "df\n",
    "df.to_csv('All-Tweets.csv',index=False)"
   ]
  },
  {
   "cell_type": "code",
   "execution_count": 8,
   "metadata": {},
   "outputs": [
    {
     "data": {
      "text/plain": [
       "'http://pbs.twimg.com/profile_images/1244933005795135489/bPoYebla_normal.jpg'"
      ]
     },
     "execution_count": 8,
     "metadata": {},
     "output_type": "execute_result"
    }
   ],
   "source": [
    "df[\"profilePictue\"][0]"
   ]
  },
  {
   "cell_type": "code",
   "execution_count": null,
   "metadata": {},
   "outputs": [],
   "source": []
  }
 ],
 "metadata": {
  "kernelspec": {
   "display_name": "Python 3",
   "language": "python",
   "name": "python3"
  },
  "language_info": {
   "codemirror_mode": {
    "name": "ipython",
    "version": 3
   },
   "file_extension": ".py",
   "mimetype": "text/x-python",
   "name": "python",
   "nbconvert_exporter": "python",
   "pygments_lexer": "ipython3",
   "version": "3.7.7"
  }
 },
 "nbformat": 4,
 "nbformat_minor": 4
}
